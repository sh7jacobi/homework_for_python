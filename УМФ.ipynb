{
 "cells": [
  {
   "cell_type": "code",
   "execution_count": 1,
   "metadata": {},
   "outputs": [],
   "source": [
    "import torch as t\n",
    "from NTS_prev import NTS\n",
    "import matplotlib.pyplot as plt\n",
    "from torch.optim import Adam"
   ]
  },
  {
   "cell_type": "markdown",
   "metadata": {},
   "source": [
    "# Равномерное разбиение отрезка"
   ]
  },
  {
   "cell_type": "code",
   "execution_count": 2,
   "metadata": {},
   "outputs": [],
   "source": [
    "n = 15"
   ]
  },
  {
   "cell_type": "code",
   "execution_count": 3,
   "metadata": {},
   "outputs": [],
   "source": [
    "# r - разбиение, x - x_o из изначальной задачи\n",
    "def function_uniform(x, r = t.linspace(0,1,n)):\n",
    "    len_x = x.size()[0]\n",
    "    g = t.ones(len_x)\n",
    "    for i in range(len_x):\n",
    "        # first = ( r[i+1].sub(x[i]) ).div( x[i].sub(r[i]) ).abs().log()\n",
    "        first = t.log((r[i+1] - x[i]) / (x[i] - r[i])) \n",
    "        second = t.zeros(1)\n",
    "        for k in range(len_x-1):\n",
    "            if k!=i:\n",
    "                second = second + t.log((r[k+1] - x[i]) / (r[k] - x[i])) + (x[k] - x[i]) * (1 / (r[k+1] - x[i]) - 1 / (r[k] - x[i]))\n",
    "        g[i] = first + second\n",
    "    return g    "
   ]
  },
  {
   "cell_type": "code",
   "execution_count": 5,
   "metadata": {},
   "outputs": [],
   "source": [
    "def train_N(function, optimizer, x, epoch):\n",
    "    \n",
    "    loss_line = []\n",
    "    \n",
    "    x_last = t.zeros_like(x)\n",
    "    \n",
    "    eps = 100\n",
    "    step = 0\n",
    "    while step < epoch:\n",
    "        f = (function(x) ** 2).sum()\n",
    "        \n",
    "        with t.no_grad():\n",
    "            loss_line.append(f)\n",
    "        \n",
    "        with t.no_grad():\n",
    "            x_last.copy_(x)\n",
    "        \n",
    "        optimizer.zero_grad()\n",
    "        optimizer.step()\n",
    "        \n",
    "        eps = ((x - x_last) ** 2).sum().sqrt()\n",
    "        step += 1\n",
    "    \n",
    "        #print(' ' * 60, end='\\r')\n",
    "        print('eps = {}  step = {}     '.format(eps, step), end='\\r')\n",
    "    \n",
    "    print(' ' * 60, end='\\r')\n",
    "    print('eps = {} step = {} f = {}'.format(eps.tolist(), step, f))\n",
    "    print(x.tolist())\n",
    "        \n",
    "    return loss_line"
   ]
  },
  {
   "cell_type": "code",
   "execution_count": 6,
   "metadata": {},
   "outputs": [
    {
     "name": "stderr",
     "output_type": "stream",
     "text": [
      "/home/yakub/Desktop/summer_project/env/lib/python3.6/site-packages/ipykernel_launcher.py:3: UserWarning: To copy construct from a tensor, it is recommended to use sourceTensor.clone().detach() or sourceTensor.clone().detach().requires_grad_(True), rather than torch.tensor(sourceTensor).\n",
      "  This is separate from the ipykernel package so we can avoid doing imports until\n"
     ]
    }
   ],
   "source": [
    "r = t.linspace(0,1,n)\n",
    "x = r[:-1]+(r[1]-r[0])/4.0\n",
    "x = t.tensor(x,  dtype= t.float32, requires_grad = True)"
   ]
  },
  {
   "cell_type": "code",
   "execution_count": 7,
   "metadata": {},
   "outputs": [
    {
     "name": "stdout",
     "output_type": "stream",
     "text": [
      "eps = 0.0 step = 100 f = 1.4690426652919086e-09             \n",
      "[0.031601808965206146, 0.10765215754508972, 0.1784859448671341, 0.24999940395355225, 0.3214220702648163, 0.3928549885749817, 0.4642857015132904, 0.5357165336608887, 0.6071492433547974, 0.6785721778869629, 0.7500856518745422, 0.8209192752838135, 0.8969697952270508, 0.9672741293907166]\n"
     ]
    }
   ],
   "source": [
    "#x = t.tensor([0.1, 0.2, 0.3, 0.4, 0.5], dtype= t.float32, requires_grad = True)\n",
    "optimizer = NTS([x], function_uniform, epoch=10, adaptive_lr=True,adaptive_L=True, limit_L=1e-2, limit_recurse=4, lr=1e-2)\n",
    "loss = train_N(function_uniform,optimizer,x,100) "
   ]
  },
  {
   "cell_type": "code",
   "execution_count": 8,
   "metadata": {},
   "outputs": [
    {
     "data": {
      "text/plain": [
       "[<matplotlib.lines.Line2D at 0x7f2b06f454e0>]"
      ]
     },
     "execution_count": 8,
     "metadata": {},
     "output_type": "execute_result"
    },
    {
     "data": {
      "image/png": "[encoded data removed]",
      "text/plain": [
       "<Figure size 432x288 with 1 Axes>"
      ]
     },
     "metadata": {
      "needs_background": "light"
     },
     "output_type": "display_data"
    }
   ],
   "source": [
    "plt.plot(loss)"
   ]
  },
  {
   "cell_type": "code",
   "execution_count": 18,
   "metadata": {},
   "outputs": [
    {
     "data": {
      "text/plain": [
       "[<matplotlib.lines.Line2D at 0x7f2b059663c8>]"
      ]
     },
     "execution_count": 18,
     "metadata": {},
     "output_type": "execute_result"
    },
    {
     "data": {
      "image/png": "[encoded data removed]",
      "text/plain": [
       "<Figure size 432x288 with 1 Axes>"
      ]
     },
     "metadata": {
      "needs_background": "light"
     },
     "output_type": "display_data"
    }
   ],
   "source": [
    "plt.plot(loss[-10:])"
   ]
  },
  {
   "cell_type": "code",
   "execution_count": 9,
   "metadata": {},
   "outputs": [],
   "source": [
    "def train_s(function, optimizer, x, epoch):\n",
    "    \n",
    "    loss_line = []\n",
    "    \n",
    "    x_last = t.zeros_like(x)\n",
    "    \n",
    "    eps = 100\n",
    "    step = 0\n",
    "    while step < epoch:\n",
    "        f = (function(x) ** 2).sum()\n",
    "        \n",
    "        with t.no_grad():\n",
    "            loss_line.append(f)\n",
    "        \n",
    "        with t.no_grad():\n",
    "            x_last.copy_(x)\n",
    "        \n",
    "        optimizer.zero_grad()\n",
    "        f.backward()\n",
    "        optimizer.step()\n",
    "        \n",
    "        eps = ((x - x_last) ** 2).sum().sqrt()\n",
    "        step += 1\n",
    "    \n",
    "        #print(' ' * 60, end='\\r')\n",
    "        print('eps = {}  step = {}    '.format(eps, step), end='\\r')\n",
    "    \n",
    "    print(' ' * 60, end='\\r')\n",
    "    print('eps = {} step = {} f = {}'.format(eps.tolist(), step, f))\n",
    "    print(x.tolist())\n",
    "        \n",
    "    return loss_line"
   ]
  },
  {
   "cell_type": "code",
   "execution_count": null,
   "metadata": {},
   "outputs": [],
   "source": [
    "r = t.linspace(0,1,n)\n",
    "x = r[:-1]+(r[1]-r[0])/4.0\n",
    "x = t.tensor(x,  dtype= t.float32, requires_grad = True)"
   ]
  },
  {
   "cell_type": "code",
   "execution_count": null,
   "metadata": {},
   "outputs": [],
   "source": [
    "optimizer = Adam([x], lr=1e-3)\n",
    "loss = train_s(function_uniform, optimizer, x, 100)"
   ]
  },
  {
   "cell_type": "code",
   "execution_count": null,
   "metadata": {},
   "outputs": [],
   "source": [
    "plt.plot(loss)"
   ]
  },
  {
   "cell_type": "markdown",
   "metadata": {},
   "source": [
    "# Неравномерное разбиение отрезка"
   ]
  },
  {
   "cell_type": "code",
   "execution_count": 10,
   "metadata": {},
   "outputs": [],
   "source": [
    "import random\n",
    "\n",
    "def generate_norm_split(n):\n",
    "    \n",
    "    n1 = n // 2\n",
    "    n2 = n - n1\n",
    "    \n",
    "    r1 = t.randn(n1).abs() / 3\n",
    "    r2 = 1 - t.randn(n2).abs() / 3\n",
    "    \n",
    "    return t.cat([r1, r2]).sort()[0]\n",
    "\n",
    "def generate_norm_x(r):\n",
    "    \n",
    "    x = t.zeros_like(r[:-1])\n",
    "    \n",
    "    for i, _ in enumerate(x):\n",
    "        x[i] = r[i] + (r[i + 1] - r[i]) / 4.\n",
    "        \n",
    "    return x"
   ]
  },
  {
   "cell_type": "code",
   "execution_count": 11,
   "metadata": {},
   "outputs": [],
   "source": [
    "n = 15"
   ]
  },
  {
   "cell_type": "code",
   "execution_count": 12,
   "metadata": {},
   "outputs": [],
   "source": [
    "# r - разбиение, x - x_o из изначальной задачи\n",
    "def function_normal(x):\n",
    "    \n",
    "    global r\n",
    "    \n",
    "    len_x = x.size()[0]\n",
    "    g = t.ones(len_x)\n",
    "    for i in range(len_x):\n",
    "        # first = ( r[i+1].sub(x[i]) ).div( x[i].sub(r[i]) ).abs().log()\n",
    "        first = t.log((r[i+1] - x[i]) / (x[i] - r[i])) \n",
    "        second = t.zeros(1)\n",
    "        for k in range(len_x-1):\n",
    "            if k!=i:\n",
    "                second = second + t.log((r[k+1] - x[i]) / (r[k] - x[i])) + (x[k] - x[i]) * (1 / (r[k+1] - x[i]) - 1 / (r[k] - x[i]))\n",
    "        g[i] = first + second\n",
    "    return g    "
   ]
  },
  {
   "cell_type": "markdown",
   "metadata": {},
   "source": [
    "# Adam"
   ]
  },
  {
   "cell_type": "code",
   "execution_count": 13,
   "metadata": {},
   "outputs": [
    {
     "name": "stdout",
     "output_type": "stream",
     "text": [
      "tensor([0.0020, 0.0066, 0.0162, 0.1699, 0.2441, 0.3130, 0.3937, 0.4062, 0.5299,\n",
      "        0.6242, 0.6809, 0.8234, 0.8463, 0.8577, 0.9817])\n",
      "tensor([0.0031, 0.0090, 0.0546, 0.1885, 0.2613, 0.3332, 0.3968, 0.4371, 0.5534,\n",
      "        0.6384, 0.7166, 0.8291, 0.8491, 0.8887])\n"
     ]
    }
   ],
   "source": [
    "r = generate_norm_split(n)\n",
    "x0 = generate_norm_x(r)\n",
    "print(r)\n",
    "print(x0)"
   ]
  },
  {
   "cell_type": "code",
   "execution_count": null,
   "metadata": {},
   "outputs": [],
   "source": [
    "x = t.zeros_like(x0, requires_grad=True)\n",
    "with t.no_grad():\n",
    "    x.copy_(x0)"
   ]
  },
  {
   "cell_type": "code",
   "execution_count": null,
   "metadata": {},
   "outputs": [],
   "source": [
    "optimizer = Adam([x], lr=1e-4)\n",
    "loss_Adam = train_s(function_normal, optimizer, x, 1000)"
   ]
  },
  {
   "cell_type": "code",
   "execution_count": null,
   "metadata": {},
   "outputs": [],
   "source": [
    "plt.plot(loss_Adam[:100])"
   ]
  },
  {
   "cell_type": "code",
   "execution_count": null,
   "metadata": {},
   "outputs": [],
   "source": [
    "plt.plot(loss_Adam[-100:])"
   ]
  },
  {
   "cell_type": "markdown",
   "metadata": {},
   "source": [
    "# NTS"
   ]
  },
  {
   "cell_type": "code",
   "execution_count": 14,
   "metadata": {},
   "outputs": [],
   "source": [
    "x = t.zeros_like(x0, requires_grad=True)\n",
    "with t.no_grad():\n",
    "    x.copy_(x0)"
   ]
  },
  {
   "cell_type": "code",
   "execution_count": 15,
   "metadata": {},
   "outputs": [
    {
     "name": "stdout",
     "output_type": "stream",
     "text": [
      "eps = 7.786496098560747e-06 step = 1000 f = 0.49307671189308167\n",
      "[0.002485999371856451, 0.007593323010951281, 0.07450233399868011, 0.21642354130744934, 0.278145432472229, 0.3538157641887665, 0.3990813195705414, 0.46164917945861816, 0.5835040807723999, 0.6508183479309082, 0.741588830947876, 0.8423823714256287, 0.8547035455703735, 0.9142261147499084]\n"
     ]
    }
   ],
   "source": [
    "optimizer = NTS([x], function_normal, epoch=10, adaptive_lr=True,\n",
    "                adaptive_L=True, limit_L=1e-2, limit_recurse=4, lr=1e-2)\n",
    "loss_NTS = train_N(function_normal, optimizer ,x , 1000) "
   ]
  },
  {
   "cell_type": "code",
   "execution_count": 41,
   "metadata": {},
   "outputs": [
    {
     "name": "stdout",
     "output_type": "stream",
     "text": [
      "tensor([0.0031, 0.0090, 0.0546, 0.1885, 0.2613, 0.3332, 0.3968, 0.4371, 0.5534,\n",
      "        0.6384, 0.7166, 0.8291, 0.8491, 0.8887])\n",
      "tensor([0.0020, 0.0066, 0.0162, 0.1699, 0.2441, 0.3130, 0.3937, 0.4062, 0.5299,\n",
      "        0.6242, 0.6809, 0.8234, 0.8463, 0.8577, 0.9817])\n"
     ]
    }
   ],
   "source": [
    "print(x0)\n",
    "print(r)"
   ]
  },
  {
   "cell_type": "code",
   "execution_count": 16,
   "metadata": {
    "scrolled": true
   },
   "outputs": [
    {
     "data": {
      "text/plain": [
       "[<matplotlib.lines.Line2D at 0x7f2b06f94c18>]"
      ]
     },
     "execution_count": 16,
     "metadata": {},
     "output_type": "execute_result"
    },
    {
     "data": {
      "image/png": "[encoded data removed]",
      "text/plain": [
       "<Figure size 432x288 with 1 Axes>"
      ]
     },
     "metadata": {
      "needs_background": "light"
     },
     "output_type": "display_data"
    }
   ],
   "source": [
    "plt.plot(loss_NTS)"
   ]
  },
  {
   "cell_type": "code",
   "execution_count": 39,
   "metadata": {},
   "outputs": [
    {
     "data": {
      "text/plain": [
       "[<matplotlib.lines.Line2D at 0x7f2b04ec2828>]"
      ]
     },
     "execution_count": 39,
     "metadata": {},
     "output_type": "execute_result"
    },
    {
     "data": {
      "image/png": "[encoded data removed]",
      "text/plain": [
       "<Figure size 432x288 with 1 Axes>"
      ]
     },
     "metadata": {
      "needs_background": "light"
     },
     "output_type": "display_data"
    }
   ],
   "source": [
    "plt.plot(loss_NTS[-10:])"
   ]
  },
  {
   "cell_type": "code",
   "execution_count": 48,
   "metadata": {},
   "outputs": [
    {
     "data": {
      "text/plain": [
       "tensor([True, True, True, True, True, True, True, True, True, True, True, True,\n",
       "        True, True])"
      ]
     },
     "execution_count": 48,
     "metadata": {},
     "output_type": "execute_result"
    }
   ],
   "source": [
    "(x > r[:-1]) & (x < r[1:])"
   ]
  },
  {
   "cell_type": "code",
   "execution_count": 27,
   "metadata": {},
   "outputs": [],
   "source": [
    "junc_line = []"
   ]
  },
  {
   "cell_type": "code",
   "execution_count": 28,
   "metadata": {},
   "outputs": [
    {
     "data": {
      "text/plain": [
       "[]"
      ]
     },
     "execution_count": 28,
     "metadata": {},
     "output_type": "execute_result"
    }
   ],
   "source": [
    "junc_line"
   ]
  },
  {
   "cell_type": "code",
   "execution_count": null,
   "metadata": {},
   "outputs": [],
   "source": []
  }
 ],
 "metadata": {
  "kernelspec": {
   "display_name": "Python 3",
   "language": "python",
   "name": "python3"
  },
  "language_info": {
   "codemirror_mode": {
    "name": "ipython",
    "version": 3
   },
   "file_extension": ".py",
   "mimetype": "text/x-python",
   "name": "python",
   "nbconvert_exporter": "python",
   "pygments_lexer": "ipython3",
   "version": "3.6.9"
  }
 },
 "nbformat": 4,
 "nbformat_minor": 4
}
