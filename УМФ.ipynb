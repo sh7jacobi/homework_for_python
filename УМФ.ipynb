{
 "cells": [
  {
   "cell_type": "code",
   "execution_count": 1,
   "metadata": {},
   "outputs": [],
   "source": [
    "import torch as t\n",
    "from NTS_prev_umf import NTS\n",
    "import matplotlib.pyplot as plt\n",
    "from torch.optim import Adam"
   ]
  },
  {
   "cell_type": "markdown",
   "metadata": {},
   "source": [
    "# Равномерное разбиение отрезка"
   ]
  },
  {
   "cell_type": "code",
   "execution_count": 2,
   "metadata": {},
   "outputs": [],
   "source": [
    "n = 15"
   ]
  },
  {
   "cell_type": "code",
   "execution_count": 3,
   "metadata": {},
   "outputs": [],
   "source": [
    "# r - разбиение, x - x_o из изначальной задачи\n",
    "def function_uniform(x, r = t.linspace(0,1,n)):\n",
    "    len_x = x.size()[0]\n",
    "    g = t.ones(len_x)\n",
    "    for i in range(len_x):\n",
    "        # first = ( r[i+1].sub(x[i]) ).div( x[i].sub(r[i]) ).abs().log()\n",
    "        first = t.log((r[i+1] - x[i]) / (x[i] - r[i])) \n",
    "        second = t.zeros(1)\n",
    "        for k in range(len_x-1):\n",
    "            if k!=i:\n",
    "                second = second + t.log((r[k+1] - x[i]) / (r[k] - x[i])) + (x[k] - x[i]) * (1 / (r[k+1] - x[i]) - 1 / (r[k] - x[i]))\n",
    "        g[i] = first + second\n",
    "    return g    "
   ]
  },
  {
   "cell_type": "code",
   "execution_count": 4,
   "metadata": {},
   "outputs": [],
   "source": [
    "def grad_function_uniform(x, r = t.linspace(0,1,n)):\n",
    "    len = x.size()[0]\n",
    "    dg = t.zeros([len, len])\n",
    "\n",
    "    for i in range(len):\n",
    "        for j in range(len):\n",
    "            if i == j:\n",
    "                dg[i][j] = - t.abs(1. / (r[i+1] - x[i])) - t.abs(1. / (x[i] - r[i]))\n",
    "                for k in range(len-1):\n",
    "                    if k!=i:\n",
    "                        dg[i][j] += -1. / (r[k+1] - x[i]) + 1. / (r[k] - x[i]) + (1. / (r[k] - x[i]) - 1./(r[k+1] - x[i])) + (x[k] - x[i]) * (1. / (r[k+1] - x[i]).square() - 1. / (r[k] - x[i]).square())\n",
    "            else:\n",
    "                dg[i][j] = 1. / (r[j+1] - x[i]) - 1. / (r[j] - x[i])\n",
    "    return dg"
   ]
  },
  {
   "cell_type": "code",
   "execution_count": 5,
   "metadata": {},
   "outputs": [],
   "source": [
    "def train_N(function, optimizer, x, epoch):\n",
    "    \n",
    "    loss_line = []\n",
    "    \n",
    "    x_last = t.zeros_like(x)\n",
    "    \n",
    "    eps = 100\n",
    "    step = 0\n",
    "    while step < epoch:\n",
    "        \n",
    "        with t.no_grad():\n",
    "            f = (function(x) ** 2).sum()\n",
    "            loss_line.append(f)\n",
    "        \n",
    "        with t.no_grad():\n",
    "            x_last.copy_(x)\n",
    "        \n",
    "        optimizer.zero_grad()\n",
    "        optimizer.step()\n",
    "        \n",
    "        eps = ((x - x_last) ** 2).sum().sqrt()\n",
    "        step += 1\n",
    "    \n",
    "        #print(' ' * 60, end='\\r')\n",
    "        print('eps = {}  step = {}     '.format(eps, step), end='\\r')\n",
    "    \n",
    "    print(' ' * 60, end='\\r')\n",
    "    print('eps = {} step = {} f = {}'.format(eps.tolist(), step, f))\n",
    "    print(x.tolist())\n",
    "        \n",
    "    return loss_line"
   ]
  },
  {
   "cell_type": "code",
   "execution_count": 12,
   "metadata": {},
   "outputs": [
    {
     "name": "stderr",
     "output_type": "stream",
     "text": [
      "/home/yakub/Desktop/summer_project/env/lib/python3.6/site-packages/ipykernel_launcher.py:3: UserWarning: To copy construct from a tensor, it is recommended to use sourceTensor.clone().detach() or sourceTensor.clone().detach().requires_grad_(True), rather than torch.tensor(sourceTensor).\n",
      "  This is separate from the ipykernel package so we can avoid doing imports until\n"
     ]
    }
   ],
   "source": [
    "r = t.linspace(0,1,n)\n",
    "x = r[:-1]+(r[1]-r[0])/4.0\n",
    "x = t.tensor(x,  dtype= t.float32, requires_grad = True)"
   ]
  },
  {
   "cell_type": "code",
   "execution_count": 13,
   "metadata": {},
   "outputs": [
    {
     "name": "stdout",
     "output_type": "stream",
     "text": [
      "eps = 0.0 step = 100 f = 4.784292697906494                  \n",
      "[0.055509019643068314, 0.1030096709728241, 0.1771797388792038, 0.24834008514881134, 0.31970059871673584, 0.3911381959915161, 0.4625542461872101, 0.5339847803115845, 0.6054207682609558, 0.6768724918365479, 0.7483736872673035, 0.8198472857475281, 0.8916033506393433, 0.9649708867073059]\n",
      "time = 18.942607879638672\n"
     ]
    }
   ],
   "source": [
    "import time\n",
    "start = time.time()\n",
    "optimizer = NTS([x], function_uniform, grad_function_uniform, epoch=10, adaptive_lr=True,adaptive_L=True, limit_L=1e-2, limit_recurse=4, lr=1e-2)\n",
    "loss = train_N(function_uniform,optimizer,x,100) \n",
    "print('time = {}'.format(time.time() - start))"
   ]
  },
  {
   "cell_type": "code",
   "execution_count": 10,
   "metadata": {},
   "outputs": [
    {
     "data": {
      "text/plain": [
       "[<matplotlib.lines.Line2D at 0x7fcfe86a4550>]"
      ]
     },
     "execution_count": 10,
     "metadata": {},
     "output_type": "execute_result"
    },
    {
     "data": {
      "image/png": "[encoded data removed]",
      "text/plain": [
       "<Figure size 432x288 with 1 Axes>"
      ]
     },
     "metadata": {
      "needs_background": "light"
     },
     "output_type": "display_data"
    }
   ],
   "source": [
    "plt.plot(loss)"
   ]
  },
  {
   "cell_type": "code",
   "execution_count": null,
   "metadata": {},
   "outputs": [],
   "source": [
    "plt.plot(loss[-10:])"
   ]
  },
  {
   "cell_type": "code",
   "execution_count": null,
   "metadata": {},
   "outputs": [],
   "source": [
    "def train_s(function, optimizer, x, epoch):\n",
    "    \n",
    "    loss_line = []\n",
    "    \n",
    "    x_last = t.zeros_like(x)\n",
    "    \n",
    "    eps = 100\n",
    "    step = 0\n",
    "    while step < epoch:\n",
    "        f = (function(x) ** 2).sum()\n",
    "        \n",
    "        with t.no_grad():\n",
    "            loss_line.append(f)\n",
    "        \n",
    "        with t.no_grad():\n",
    "            x_last.copy_(x)\n",
    "        \n",
    "        optimizer.zero_grad()\n",
    "        f.backward()\n",
    "        optimizer.step()\n",
    "        \n",
    "        eps = ((x - x_last) ** 2).sum().sqrt()\n",
    "        step += 1\n",
    "    \n",
    "        #print(' ' * 60, end='\\r')\n",
    "        print('eps = {}  step = {}    '.format(eps, step), end='\\r')\n",
    "    \n",
    "    print(' ' * 60, end='\\r')\n",
    "    print('eps = {} step = {} f = {}'.format(eps.tolist(), step, f))\n",
    "    print(x.tolist())\n",
    "        \n",
    "    return loss_line"
   ]
  },
  {
   "cell_type": "code",
   "execution_count": null,
   "metadata": {},
   "outputs": [],
   "source": [
    "r = t.linspace(0,1,n)\n",
    "x = r[:-1]+(r[1]-r[0])/4.0\n",
    "x = t.tensor(x,  dtype= t.float32, requires_grad = True)"
   ]
  },
  {
   "cell_type": "code",
   "execution_count": null,
   "metadata": {},
   "outputs": [],
   "source": [
    "optimizer = Adam([x], lr=1e-3)\n",
    "loss = train_s(function_uniform, optimizer, x, 100)"
   ]
  },
  {
   "cell_type": "code",
   "execution_count": null,
   "metadata": {},
   "outputs": [],
   "source": [
    "plt.plot(loss)"
   ]
  },
  {
   "cell_type": "markdown",
   "metadata": {},
   "source": [
    "# Неравномерное разбиение отрезка"
   ]
  },
  {
   "cell_type": "code",
   "execution_count": null,
   "metadata": {},
   "outputs": [],
   "source": [
    "import random\n",
    "\n",
    "def generate_norm_split(n):\n",
    "    \n",
    "    n1 = n // 2\n",
    "    n2 = n - n1\n",
    "    \n",
    "    r1 = t.randn(n1).abs() / 3\n",
    "    r2 = 1 - t.randn(n2).abs() / 3\n",
    "    \n",
    "    return t.cat([r1, r2]).sort()[0]\n",
    "\n",
    "def generate_norm_x(r):\n",
    "    \n",
    "    x = t.zeros_like(r[:-1])\n",
    "    \n",
    "    for i, _ in enumerate(x):\n",
    "        x[i] = r[i] + (r[i + 1] - r[i]) / 4.\n",
    "        \n",
    "    return x"
   ]
  },
  {
   "cell_type": "code",
   "execution_count": null,
   "metadata": {},
   "outputs": [],
   "source": [
    "n = 15"
   ]
  },
  {
   "cell_type": "code",
   "execution_count": null,
   "metadata": {},
   "outputs": [],
   "source": [
    "# r - разбиение, x - x_o из изначальной задачи\n",
    "def function_normal(x):\n",
    "    \n",
    "    global r\n",
    "    \n",
    "    len_x = x.size()[0]\n",
    "    g = t.ones(len_x)\n",
    "    for i in range(len_x):\n",
    "        # first = ( r[i+1].sub(x[i]) ).div( x[i].sub(r[i]) ).abs().log()\n",
    "        first = t.log((r[i+1] - x[i]) / (x[i] - r[i])) \n",
    "        second = t.zeros(1)\n",
    "        for k in range(len_x-1):\n",
    "            if k!=i:\n",
    "                second = second + t.log((r[k+1] - x[i]) / (r[k] - x[i])) + (x[k] - x[i]) * (1 / (r[k+1] - x[i]) - 1 / (r[k] - x[i]))\n",
    "        g[i] = first + second\n",
    "    return g    "
   ]
  },
  {
   "cell_type": "markdown",
   "metadata": {},
   "source": [
    "# Adam"
   ]
  },
  {
   "cell_type": "code",
   "execution_count": null,
   "metadata": {},
   "outputs": [],
   "source": [
    "r = generate_norm_split(n)\n",
    "x0 = generate_norm_x(r)\n",
    "print(r)\n",
    "print(x0)"
   ]
  },
  {
   "cell_type": "code",
   "execution_count": null,
   "metadata": {},
   "outputs": [],
   "source": [
    "x = t.zeros_like(x0, requires_grad=True)\n",
    "with t.no_grad():\n",
    "    x.copy_(x0)"
   ]
  },
  {
   "cell_type": "code",
   "execution_count": null,
   "metadata": {},
   "outputs": [],
   "source": [
    "optimizer = Adam([x], lr=1e-4)\n",
    "loss_Adam = train_s(function_normal, optimizer, x, 1000)"
   ]
  },
  {
   "cell_type": "code",
   "execution_count": null,
   "metadata": {},
   "outputs": [],
   "source": [
    "plt.plot(loss_Adam[:100])"
   ]
  },
  {
   "cell_type": "code",
   "execution_count": null,
   "metadata": {},
   "outputs": [],
   "source": [
    "plt.plot(loss_Adam[-100:])"
   ]
  },
  {
   "cell_type": "markdown",
   "metadata": {},
   "source": [
    "# NTS"
   ]
  },
  {
   "cell_type": "code",
   "execution_count": null,
   "metadata": {},
   "outputs": [],
   "source": [
    "x = t.zeros_like(x0, requires_grad=True)\n",
    "with t.no_grad():\n",
    "    x.copy_(x0)"
   ]
  },
  {
   "cell_type": "code",
   "execution_count": null,
   "metadata": {},
   "outputs": [],
   "source": [
    "optimizer = NTS([x], function_normal, epoch=10, adaptive_lr=True,\n",
    "                adaptive_L=True, limit_L=1e-2, limit_recurse=4, lr=1e-2)\n",
    "loss_NTS = train_N(function_normal, optimizer ,x , 1000) "
   ]
  },
  {
   "cell_type": "code",
   "execution_count": null,
   "metadata": {},
   "outputs": [],
   "source": [
    "print(x0)\n",
    "print(r)"
   ]
  },
  {
   "cell_type": "code",
   "execution_count": null,
   "metadata": {
    "scrolled": true
   },
   "outputs": [],
   "source": [
    "plt.plot(loss_NTS)"
   ]
  },
  {
   "cell_type": "code",
   "execution_count": null,
   "metadata": {},
   "outputs": [],
   "source": [
    "plt.plot(loss_NTS[-10:])"
   ]
  },
  {
   "cell_type": "code",
   "execution_count": null,
   "metadata": {},
   "outputs": [],
   "source": [
    "(x > r[:-1]) & (x < r[1:])"
   ]
  },
  {
   "cell_type": "code",
   "execution_count": null,
   "metadata": {},
   "outputs": [],
   "source": [
    "junc_line = []"
   ]
  },
  {
   "cell_type": "code",
   "execution_count": null,
   "metadata": {},
   "outputs": [],
   "source": [
    "junc_line"
   ]
  },
  {
   "cell_type": "code",
   "execution_count": null,
   "metadata": {},
   "outputs": [],
   "source": []
  }
 ],
 "metadata": {
  "kernelspec": {
   "display_name": "Python 3",
   "language": "python",
   "name": "python3"
  },
  "language_info": {
   "codemirror_mode": {
    "name": "ipython",
    "version": 3
   },
   "file_extension": ".py",
   "mimetype": "text/x-python",
   "name": "python",
   "nbconvert_exporter": "python",
   "pygments_lexer": "ipython3",
   "version": "3.6.9"
  }
 },
 "nbformat": 4,
 "nbformat_minor": 4
}
